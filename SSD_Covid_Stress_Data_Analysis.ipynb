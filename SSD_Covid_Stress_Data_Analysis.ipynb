{
  "nbformat": 4,
  "nbformat_minor": 0,
  "metadata": {
    "colab": {
      "provenance": [],
      "include_colab_link": true
    },
    "kernelspec": {
      "name": "python3",
      "display_name": "Python 3"
    },
    "language_info": {
      "name": "python"
    }
  },
  "cells": [
    {
      "cell_type": "markdown",
      "metadata": {
        "id": "view-in-github",
        "colab_type": "text"
      },
      "source": [
        "<a href=\"https://colab.research.google.com/github/mimingfikriac/SSD_CovidStressDataAnalysis/blob/main/SSD_Covid_Stress_Data_Analysis.ipynb\" target=\"_parent\"><img src=\"https://colab.research.google.com/assets/colab-badge.svg\" alt=\"Open In Colab\"/></a>"
      ]
    },
    {
      "cell_type": "markdown",
      "source": [
        "Membaca file csv dan mengubahnya ke dataframe"
      ],
      "metadata": {
        "id": "ixIjscO_udhY"
      }
    },
    {
      "cell_type": "code",
      "source": [
        "import pandas as pd\n",
        "!gdown --id \"1eKAsgrSnsPi4FIAR1vLITAnNDw6ae-yp\"\n",
        "df = pd.read_csv(\"COVIDiSTRESS_May_30_cleaned_final (1).csv\", encoding = 'latin-1')\n"
      ],
      "metadata": {
        "colab": {
          "base_uri": "https://localhost:8080/"
        },
        "id": "P22gbMpo-Cw7",
        "outputId": "a03c3c9d-4407-4f9f-c574-3fb7df7ddce9"
      },
      "execution_count": null,
      "outputs": [
        {
          "output_type": "stream",
          "name": "stdout",
          "text": [
            "/usr/local/lib/python3.10/dist-packages/gdown/cli.py:121: FutureWarning: Option `--id` was deprecated in version 4.3.1 and will be removed in 5.0. You don't need to pass it anymore to use a file ID.\n",
            "  warnings.warn(\n",
            "Downloading...\n",
            "From: https://drive.google.com/uc?id=1eKAsgrSnsPi4FIAR1vLITAnNDw6ae-yp\n",
            "To: /content/COVIDiSTRESS_May_30_cleaned_final (1).csv\n",
            "100% 90.3M/90.3M [00:02<00:00, 32.7MB/s]\n"
          ]
        },
        {
          "output_type": "stream",
          "name": "stderr",
          "text": [
            "<ipython-input-1-c345a8a04a11>:3: DtypeWarning: Columns (55,56,57,58,59,60,61) have mixed types. Specify dtype option on import or set low_memory=False.\n",
            "  df = pd.read_csv(\"COVIDiSTRESS_May_30_cleaned_final (1).csv\", encoding = 'latin-1')\n"
          ]
        }
      ]
    },
    {
      "cell_type": "markdown",
      "source": [
        "Drop kolom-kolom yang tidak dipakai dalam perhitungan (karena banyak yang tidak mengisi/jawaban mengandung teks yang tidak dapat diolah secara numerik, kecuali identitas)"
      ],
      "metadata": {
        "id": "YrchnElq5yz_"
      }
    },
    {
      "cell_type": "code",
      "source": [
        "df1=df.drop(df.loc[:, 'born_92':'PS_PTSD_5'].columns, axis=1)\n",
        "df1=df1.drop(['Expl_Distress_txt', 'Expl_coping_txt','Final_open'], axis=1)\n",
        "print(df1.shape)"
      ],
      "metadata": {
        "colab": {
          "base_uri": "https://localhost:8080/"
        },
        "id": "oqkjhipR5VmR",
        "outputId": "23d26901-ba70-40a3-b7bb-79acdc8af623"
      },
      "execution_count": null,
      "outputs": [
        {
          "output_type": "stream",
          "name": "stdout",
          "text": [
            "(125306, 135)\n"
          ]
        }
      ]
    },
    {
      "cell_type": "markdown",
      "source": [
        "Drop baris yang hanya mengisi identitas tapi tidak mengisi kuesioner sama sekali (walaupun sudah mengisi di bagian kolom yang sudah di drop)"
      ],
      "metadata": {
        "id": "Hm7NeN7QuqiU"
      }
    },
    {
      "cell_type": "code",
      "source": [
        "df2 = df1.dropna(subset=df1.columns[22:126], how='all')\n",
        "print(df2.shape)"
      ],
      "metadata": {
        "colab": {
          "base_uri": "https://localhost:8080/"
        },
        "id": "6MwUfK9l_0zL",
        "outputId": "65f17449-07cd-4450-9214-14ecfc41d42a"
      },
      "execution_count": null,
      "outputs": [
        {
          "output_type": "stream",
          "name": "stdout",
          "text": [
            "(116242, 135)\n"
          ]
        }
      ]
    },
    {
      "cell_type": "markdown",
      "source": [
        "Ganti nilai 99 (Doesn't apply to my current situation) pada section Expl_Distress_X dengan nilai 1 (Karena responden tidak akan merasa stress apabila tidak merasa adanya hubungan antara dirinya dengan pertanyaan)"
      ],
      "metadata": {
        "id": "XENZH0nkEoK5"
      }
    },
    {
      "cell_type": "code",
      "source": [
        "df2.loc[:, 'Expl_Distress_1':'Expl_Distress_24'] = df2.loc[:, 'Expl_Distress_1':'Expl_Distress_24'].replace({99: 1})"
      ],
      "metadata": {
        "id": "NROUCu3JGAzj",
        "colab": {
          "base_uri": "https://localhost:8080/"
        },
        "outputId": "83830191-5d7b-434b-e6a2-538285de8333"
      },
      "execution_count": null,
      "outputs": [
        {
          "output_type": "stream",
          "name": "stderr",
          "text": [
            "<ipython-input-4-0d3d58de7dc7>:1: SettingWithCopyWarning: \n",
            "A value is trying to be set on a copy of a slice from a DataFrame.\n",
            "Try using .loc[row_indexer,col_indexer] = value instead\n",
            "\n",
            "See the caveats in the documentation: https://pandas.pydata.org/pandas-docs/stable/user_guide/indexing.html#returning-a-view-versus-a-copy\n",
            "  df2.loc[:, 'Expl_Distress_1':'Expl_Distress_24'] = df2.loc[:, 'Expl_Distress_1':'Expl_Distress_24'].replace({99: 1})\n"
          ]
        }
      ]
    },
    {
      "cell_type": "markdown",
      "source": [
        "Reverse skala data untuk pertanyaan dengan skala terbalik di section masing-masing"
      ],
      "metadata": {
        "id": "cH84p44SLAva"
      }
    },
    {
      "cell_type": "code",
      "source": [
        "import numpy as np\n",
        "df_reverse = df2.copy()\n",
        "ganti = ['Scale_PSS10_UCLA_4','Scale_PSS10_UCLA_5','Scale_PSS10_UCLA_7','Scale_PSS10_UCLA_8','Compliance_4','Compliance_6']\n",
        "for kolom in ganti:\n",
        "  df_reverse[kolom] = np.max(df2[kolom]) - df2[kolom] + np.min(df2[kolom])"
      ],
      "metadata": {
        "id": "QvHYkRJ2LbAK"
      },
      "execution_count": null,
      "outputs": []
    },
    {
      "cell_type": "markdown",
      "source": [
        "Drop 9 kolom terakhir yang memuat statistika deskriptif dari setiap observasi dan section bawaan dari data (tidak lagi relevan karena proses cleaning). dan menggantinya dengan nilai rata-rata dari setiap section untuk setiap observasi."
      ],
      "metadata": {
        "id": "ZES42YmWQo7t"
      }
    },
    {
      "cell_type": "code",
      "source": [
        "df_reverse=df_reverse.drop(df.loc[:, 'PSS10_avg':'Scale_UCLA_TRI_avg'].columns, axis=1)\n",
        "print(df_reverse.shape)"
      ],
      "metadata": {
        "colab": {
          "base_uri": "https://localhost:8080/"
        },
        "id": "1Uz5AEIdUZyK",
        "outputId": "21293b5b-1a6d-412c-9afd-d44d01fdc1ff"
      },
      "execution_count": null,
      "outputs": [
        {
          "output_type": "stream",
          "name": "stdout",
          "text": [
            "(116242, 126)\n"
          ]
        }
      ]
    },
    {
      "cell_type": "code",
      "source": [
        "df_clean=df_reverse.copy()\n",
        "avg_cols = {\n",
        "    'Scale_PSS10_avg':['Scale_PSS10_UCLA_1','Scale_PSS10_UCLA_10'],\n",
        "    'Scale_SLON_avg':['Scale_SLON_1','Scale_SLON_3'],\n",
        "    'OECD_people_avg':['OECD_people_1','OECD_people_2'],\n",
        "    'OECD_insititutions_avg':['OECD_insititutions_1','OECD_insititutions_6'],\n",
        "    'OECD_avg':['OECD_people_1','OECD_insititutions_6'],\n",
        "    'Corona_concerns_avg':['Corona_concerns_1','Corona_concerns_5'],\n",
        "    'Compliance_avg':['Compliance_1','Compliance_6'],\n",
        "    'BFF_avg':['BFF_15_1','BFF_15_15'],\n",
        "    'Expl_Distress_avg':['Expl_Distress_1','Expl_Distress_24'],\n",
        "    'SPS_avg':['SPS_1','SPS_10'],\n",
        "    'Expl_Coping_avg':['Expl_Coping_1','Expl_Coping_16'],\n",
        "    'Expl_media_avg':['Expl_media_1','Expl_media_6']\n",
        "    }\n",
        "for cols in list(avg_cols.keys()):\n",
        "   df_clean[cols] = df_reverse.loc[:, avg_cols[cols][0]:avg_cols[cols][1]].mean(axis=1)\n",
        "\n",
        "print(df_clean.shape)"
      ],
      "metadata": {
        "id": "u_zaFmxcVbN1",
        "colab": {
          "base_uri": "https://localhost:8080/"
        },
        "outputId": "238fdc77-d8e8-4295-89f1-a4a3d05d6190"
      },
      "execution_count": null,
      "outputs": [
        {
          "output_type": "stream",
          "name": "stdout",
          "text": [
            "(116242, 138)\n"
          ]
        }
      ]
    },
    {
      "cell_type": "markdown",
      "source": [
        "Menghitung matriks korelasi dari data"
      ],
      "metadata": {
        "id": "KalBolvadLMe"
      }
    },
    {
      "cell_type": "code",
      "source": [
        "#correlation_matrix = df_clean.corr(numeric_only=True)"
      ],
      "metadata": {
        "id": "0_tLJ9v3dS59"
      },
      "execution_count": null,
      "outputs": []
    },
    {
      "cell_type": "markdown",
      "source": [
        "Mencari pasangan-pasangan fitur dengan korelasi tinggi"
      ],
      "metadata": {
        "id": "0ZsO6YAg-bqk"
      }
    },
    {
      "cell_type": "code",
      "source": [
        "# Membuat mask untuk menghiraukan entri diagonal\n",
        "#mask = np.triu(np.ones_like(correlation_matrix, dtype=bool))\n",
        "\n",
        "# Mencari pasangan yang mempunyai korelasi kuat (baik negatif <-0.6 maupun positif >0.6)\n",
        "#strong_pairs = [(i,j) for i in range(correlation_matrix.shape[0]) for j in range(i+1, correlation_matrix.shape[1]) if correlation_matrix.iloc[i, j] > 0.6 or correlation_matrix.iloc[i, j] < -0.6]\n",
        "\n",
        "# Tampilkan Pasangan-Pasangannya\n",
        "#for i, j in strong_pairs:\n",
        "#    if correlation_matrix.columns[i][0:4] == correlation_matrix.columns[j][0:4] and correlation_matrix.columns[j][-3:] == 'avg':\n",
        "#        continue\n",
        "#    else:\n",
        "#        print(f\"{correlation_matrix.columns[i]} dan {correlation_matrix.columns[j]} mempunyai korelasi sebesar {correlation_matrix.iloc[i, j]}\")"
      ],
      "metadata": {
        "id": "EMmpPPbelPi5"
      },
      "execution_count": null,
      "outputs": []
    },
    {
      "cell_type": "markdown",
      "source": [
        "Mengambil subset data dari anggota G7. Anggota G7 dikelompokkan menjadi 3 blok negara\n",
        "1. North America (US, Canada)\n",
        "2. EU (UK, Italy, France, Germany)\n",
        "3. Japan\n",
        "\n",
        "Karena observasi france terlalu banyak (12000 baris), maka dilakukan stratified sampling berdasarkan demografi edukasi sebanyak 10% dan memasukannya dalam kelompok EU."
      ],
      "metadata": {
        "id": "RDsVJsQy_P6o"
      }
    },
    {
      "cell_type": "code",
      "source": [
        "df_clean_NA = df_clean[df_clean['Country'].isin(['United States','Canada'])]\n",
        "df_clean_JP = df_clean[df_clean['Country'] == 'Japan']\n",
        "\n",
        "df_clean_FR = pd.DataFrame()\n",
        "for edu in df_clean['Dem_edu'].unique():\n",
        "  df_clean_FR = df_clean_FR.append(df_clean[(df_clean['Country'] == 'France') & (df_clean['Dem_edu'] == edu)].sample(frac=0.09,random_state=42))\n",
        "\n",
        "df_clean_EU = pd.concat([df_clean[df_clean['Country'].isin(['United Kingdom','Italy','Germany'])],df_clean_FR])"
      ],
      "metadata": {
        "id": "MX4RU4TBiAqT",
        "colab": {
          "base_uri": "https://localhost:8080/"
        },
        "outputId": "591a2ae8-a08c-4b2d-8a96-1a0ed4b0d649"
      },
      "execution_count": null,
      "outputs": [
        {
          "output_type": "stream",
          "name": "stderr",
          "text": [
            "<ipython-input-11-46d0f425bdc2>:6: FutureWarning: The frame.append method is deprecated and will be removed from pandas in a future version. Use pandas.concat instead.\n",
            "  df_clean_FR = df_clean_FR.append(df_clean[(df_clean['Country'] == 'France') & (df_clean['Dem_edu'] == edu)].sample(frac=0.09,random_state=42))\n",
            "<ipython-input-11-46d0f425bdc2>:6: FutureWarning: The frame.append method is deprecated and will be removed from pandas in a future version. Use pandas.concat instead.\n",
            "  df_clean_FR = df_clean_FR.append(df_clean[(df_clean['Country'] == 'France') & (df_clean['Dem_edu'] == edu)].sample(frac=0.09,random_state=42))\n",
            "<ipython-input-11-46d0f425bdc2>:6: FutureWarning: The frame.append method is deprecated and will be removed from pandas in a future version. Use pandas.concat instead.\n",
            "  df_clean_FR = df_clean_FR.append(df_clean[(df_clean['Country'] == 'France') & (df_clean['Dem_edu'] == edu)].sample(frac=0.09,random_state=42))\n",
            "<ipython-input-11-46d0f425bdc2>:6: FutureWarning: The frame.append method is deprecated and will be removed from pandas in a future version. Use pandas.concat instead.\n",
            "  df_clean_FR = df_clean_FR.append(df_clean[(df_clean['Country'] == 'France') & (df_clean['Dem_edu'] == edu)].sample(frac=0.09,random_state=42))\n",
            "<ipython-input-11-46d0f425bdc2>:6: FutureWarning: The frame.append method is deprecated and will be removed from pandas in a future version. Use pandas.concat instead.\n",
            "  df_clean_FR = df_clean_FR.append(df_clean[(df_clean['Country'] == 'France') & (df_clean['Dem_edu'] == edu)].sample(frac=0.09,random_state=42))\n",
            "<ipython-input-11-46d0f425bdc2>:6: FutureWarning: The frame.append method is deprecated and will be removed from pandas in a future version. Use pandas.concat instead.\n",
            "  df_clean_FR = df_clean_FR.append(df_clean[(df_clean['Country'] == 'France') & (df_clean['Dem_edu'] == edu)].sample(frac=0.09,random_state=42))\n",
            "<ipython-input-11-46d0f425bdc2>:6: FutureWarning: The frame.append method is deprecated and will be removed from pandas in a future version. Use pandas.concat instead.\n",
            "  df_clean_FR = df_clean_FR.append(df_clean[(df_clean['Country'] == 'France') & (df_clean['Dem_edu'] == edu)].sample(frac=0.09,random_state=42))\n",
            "<ipython-input-11-46d0f425bdc2>:6: FutureWarning: The frame.append method is deprecated and will be removed from pandas in a future version. Use pandas.concat instead.\n",
            "  df_clean_FR = df_clean_FR.append(df_clean[(df_clean['Country'] == 'France') & (df_clean['Dem_edu'] == edu)].sample(frac=0.09,random_state=42))\n",
            "<ipython-input-11-46d0f425bdc2>:6: FutureWarning: The frame.append method is deprecated and will be removed from pandas in a future version. Use pandas.concat instead.\n",
            "  df_clean_FR = df_clean_FR.append(df_clean[(df_clean['Country'] == 'France') & (df_clean['Dem_edu'] == edu)].sample(frac=0.09,random_state=42))\n"
          ]
        }
      ]
    },
    {
      "cell_type": "code",
      "source": [
        "#!pip install fitter"
      ],
      "metadata": {
        "id": "J8LnbflN-53L"
      },
      "execution_count": null,
      "outputs": []
    },
    {
      "cell_type": "markdown",
      "source": [
        "Mencari distribusi skor stress dari blok north america"
      ],
      "metadata": {
        "id": "52DMJTl6BLsd"
      }
    },
    {
      "cell_type": "code",
      "source": [
        "#from fitter import Fitter, get_common_distributions, get_distributions\n",
        "#data = df_clean_NA[\"Scale_PSS10_avg\"].values\n",
        "#f = Fitter(data)\n",
        "#f.fit()\n",
        "#f.summary()"
      ],
      "metadata": {
        "id": "RFk5Dyk__n-2"
      },
      "execution_count": null,
      "outputs": []
    },
    {
      "cell_type": "markdown",
      "source": [
        "Mencari distribusi skor stress dari blok Japan\n"
      ],
      "metadata": {
        "id": "7g_nPFkxC8KW"
      }
    },
    {
      "cell_type": "code",
      "source": [
        "#data = df_clean_JP[\"Scale_PSS10_avg\"].values\n",
        "#f = Fitter(data)\n",
        "#f.fit()\n",
        "#f.summary()"
      ],
      "metadata": {
        "id": "R3Dcja8JBd7i"
      },
      "execution_count": null,
      "outputs": []
    },
    {
      "cell_type": "markdown",
      "source": [
        "Plot bar chart untuk melihat distribusi data dari 3 blok negara berdasarkan fitur PSS10_avg, SLON_avg dan Expl_Distress_avg"
      ],
      "metadata": {
        "id": "UAJlrvvO_Nsb"
      }
    },
    {
      "cell_type": "code",
      "source": [
        "import numpy as np\n",
        "\n",
        "df_clean_NA['Region'] = \"N. America\"\n",
        "df_clean_EU['Region'] = \"EU\"\n",
        "df_clean_JP['Region'] = \"JP\"\n",
        "\n",
        "df_G7 = pd.concat([df_clean_NA, df_clean_EU, df_clean_JP])"
      ],
      "metadata": {
        "colab": {
          "base_uri": "https://localhost:8080/"
        },
        "id": "X30dCseDClGe",
        "outputId": "d909984c-9416-448f-8b52-af339af13ac8"
      },
      "execution_count": null,
      "outputs": [
        {
          "output_type": "stream",
          "name": "stderr",
          "text": [
            "<ipython-input-15-95c9f8197baa>:3: SettingWithCopyWarning: \n",
            "A value is trying to be set on a copy of a slice from a DataFrame.\n",
            "Try using .loc[row_indexer,col_indexer] = value instead\n",
            "\n",
            "See the caveats in the documentation: https://pandas.pydata.org/pandas-docs/stable/user_guide/indexing.html#returning-a-view-versus-a-copy\n",
            "  df_clean_NA['Region'] = \"N. America\"\n",
            "<ipython-input-15-95c9f8197baa>:5: SettingWithCopyWarning: \n",
            "A value is trying to be set on a copy of a slice from a DataFrame.\n",
            "Try using .loc[row_indexer,col_indexer] = value instead\n",
            "\n",
            "See the caveats in the documentation: https://pandas.pydata.org/pandas-docs/stable/user_guide/indexing.html#returning-a-view-versus-a-copy\n",
            "  df_clean_JP['Region'] = \"JP\"\n"
          ]
        }
      ]
    },
    {
      "cell_type": "code",
      "source": [
        "#Drop baris yang mengandung NA pada Kolom yang akan dianalisis\n",
        "df_G7 = df_G7.dropna(subset=['Scale_PSS10_avg','Scale_SLON_avg','Expl_Distress_avg'])\n",
        "print(df_G7.shape)\n",
        "\n",
        "#Buat Bar Chart\n",
        "import matplotlib.pyplot as plt\n",
        "grouped = df_G7.groupby('Region').mean()[['Scale_PSS10_avg', 'Scale_SLON_avg', 'Expl_Distress_avg']]\n",
        "\n",
        "grouped.plot(kind='bar', stacked=False)\n",
        "\n",
        "plt.xlabel('Region')\n",
        "plt.ylabel('Mean Value')\n",
        "plt.title('Mean Values of Features for each G7 Region')\n",
        "plt.show()"
      ],
      "metadata": {
        "colab": {
          "base_uri": "https://localhost:8080/",
          "height": 606
        },
        "id": "0-NdvBTdHRLo",
        "outputId": "d82255a1-26ef-4a30-d8f6-4db5aac0a4a2"
      },
      "execution_count": null,
      "outputs": [
        {
          "output_type": "stream",
          "name": "stderr",
          "text": [
            "<ipython-input-16-33f015769f43>:7: FutureWarning: The default value of numeric_only in DataFrameGroupBy.mean is deprecated. In a future version, numeric_only will default to False. Either specify numeric_only or select only columns which should be valid for the function.\n",
            "  grouped = df_G7.groupby('Region').mean()[['Scale_PSS10_avg', 'Scale_SLON_avg', 'Expl_Distress_avg']]\n"
          ]
        },
        {
          "output_type": "stream",
          "name": "stdout",
          "text": [
            "(11651, 139)\n"
          ]
        },
        {
          "output_type": "display_data",
          "data": {
            "text/plain": [
              "<Figure size 640x480 with 1 Axes>"
            ],
            "image/png": "[encoded data removed]"
          },
          "metadata": {}
        }
      ]
    },
    {
      "cell_type": "markdown",
      "source": [
        "Analisis deskriptif untuk data G7"
      ],
      "metadata": {
        "id": "o6DJGw6aFF1F"
      }
    },
    {
      "cell_type": "code",
      "source": [
        "df_G7[['Scale_PSS10_avg','Expl_Distress_avg','Scale_SLON_avg']].describe()"
      ],
      "metadata": {
        "id": "SQZGXRVkFDi6",
        "colab": {
          "base_uri": "https://localhost:8080/",
          "height": 300
        },
        "outputId": "e392630b-b067-4da8-8d9f-242d9190a0a4"
      },
      "execution_count": null,
      "outputs": [
        {
          "output_type": "execute_result",
          "data": {
            "text/plain": [
              "       Scale_PSS10_avg  Expl_Distress_avg  Scale_SLON_avg\n",
              "count     11651.000000       11651.000000    11651.000000\n",
              "mean          2.794455           3.407407        2.577518\n",
              "std           0.698779           0.751406        0.965596\n",
              "min           1.000000           1.000000        1.000000\n",
              "25%           2.300000           2.916667        2.000000\n",
              "50%           2.800000           3.458333        2.333333\n",
              "75%           3.200000           3.916667        3.333333\n",
              "max           5.000000           6.000000        5.000000"
            ],
            "text/html": [
              "\n",
              "  <div id=\"df-a816971c-dddf-4162-880e-c4af4ca073e9\" class=\"colab-df-container\">\n",
              "    <div>\n",
              "<style scoped>\n",
              "    .dataframe tbody tr th:only-of-type {\n",
              "        vertical-align: middle;\n",
              "    }\n",
              "\n",
              "    .dataframe tbody tr th {\n",
              "        vertical-align: top;\n",
              "    }\n",
              "\n",
              "    .dataframe thead th {\n",
              "        text-align: right;\n",
              "    }\n",
              "</style>\n",
              "<table border=\"1\" class=\"dataframe\">\n",
              "  <thead>\n",
              "    <tr style=\"text-align: right;\">\n",
              "      <th></th>\n",
              "      <th>Scale_PSS10_avg</th>\n",
              "      <th>Expl_Distress_avg</th>\n",
              "      <th>Scale_SLON_avg</th>\n",
              "    </tr>\n",
              "  </thead>\n",
              "  <tbody>\n",
              "    <tr>\n",
              "      <th>count</th>\n",
              "      <td>11651.000000</td>\n",
              "      <td>11651.000000</td>\n",
              "      <td>11651.000000</td>\n",
              "    </tr>\n",
              "    <tr>\n",
              "      <th>mean</th>\n",
              "      <td>2.794455</td>\n",
              "      <td>3.407407</td>\n",
              "      <td>2.577518</td>\n",
              "    </tr>\n",
              "    <tr>\n",
              "      <th>std</th>\n",
              "      <td>0.698779</td>\n",
              "      <td>0.751406</td>\n",
              "      <td>0.965596</td>\n",
              "    </tr>\n",
              "    <tr>\n",
              "      <th>min</th>\n",
              "      <td>1.000000</td>\n",
              "      <td>1.000000</td>\n",
              "      <td>1.000000</td>\n",
              "    </tr>\n",
              "    <tr>\n",
              "      <th>25%</th>\n",
              "      <td>2.300000</td>\n",
              "      <td>2.916667</td>\n",
              "      <td>2.000000</td>\n",
              "    </tr>\n",
              "    <tr>\n",
              "      <th>50%</th>\n",
              "      <td>2.800000</td>\n",
              "      <td>3.458333</td>\n",
              "      <td>2.333333</td>\n",
              "    </tr>\n",
              "    <tr>\n",
              "      <th>75%</th>\n",
              "      <td>3.200000</td>\n",
              "      <td>3.916667</td>\n",
              "      <td>3.333333</td>\n",
              "    </tr>\n",
              "    <tr>\n",
              "      <th>max</th>\n",
              "      <td>5.000000</td>\n",
              "      <td>6.000000</td>\n",
              "      <td>5.000000</td>\n",
              "    </tr>\n",
              "  </tbody>\n",
              "</table>\n",
              "</div>\n",
              "    <div class=\"colab-df-buttons\">\n",
              "\n",
              "  <div class=\"colab-df-container\">\n",
              "    <button class=\"colab-df-convert\" onclick=\"convertToInteractive('df-a816971c-dddf-4162-880e-c4af4ca073e9')\"\n",
              "            title=\"Convert this dataframe to an interactive table.\"\n",
              "            style=\"display:none;\">\n",
              "\n",
              "  <svg xmlns=\"http://www.w3.org/2000/svg\" height=\"24px\" viewBox=\"0 -960 960 960\">\n",
              "    <path d=\"M120-120v-720h720v720H120Zm60-500h600v-160H180v160Zm220 220h160v-160H400v160Zm0 220h160v-160H400v160ZM180-400h160v-160H180v160Zm440 0h160v-160H620v160ZM180-180h160v-160H180v160Zm440 0h160v-160H620v160Z\"/>\n",
              "  </svg>\n",
              "    </button>\n",
              "\n",
              "  <style>\n",
              "    .colab-df-container {\n",
              "      display:flex;\n",
              "      gap: 12px;\n",
              "    }\n",
              "\n",
              "    .colab-df-convert {\n",
              "      background-color: #E8F0FE;\n",
              "      border: none;\n",
              "      border-radius: 50%;\n",
              "      cursor: pointer;\n",
              "      display: none;\n",
              "      fill: #1967D2;\n",
              "      height: 32px;\n",
              "      padding: 0 0 0 0;\n",
              "      width: 32px;\n",
              "    }\n",
              "\n",
              "    .colab-df-convert:hover {\n",
              "      background-color: #E2EBFA;\n",
              "      box-shadow: 0px 1px 2px rgba(60, 64, 67, 0.3), 0px 1px 3px 1px rgba(60, 64, 67, 0.15);\n",
              "      fill: #174EA6;\n",
              "    }\n",
              "\n",
              "    .colab-df-buttons div {\n",
              "      margin-bottom: 4px;\n",
              "    }\n",
              "\n",
              "    [theme=dark] .colab-df-convert {\n",
              "      background-color: #3B4455;\n",
              "      fill: #D2E3FC;\n",
              "    }\n",
              "\n",
              "    [theme=dark] .colab-df-convert:hover {\n",
              "      background-color: #434B5C;\n",
              "      box-shadow: 0px 1px 3px 1px rgba(0, 0, 0, 0.15);\n",
              "      filter: drop-shadow(0px 1px 2px rgba(0, 0, 0, 0.3));\n",
              "      fill: #FFFFFF;\n",
              "    }\n",
              "  </style>\n",
              "\n",
              "    <script>\n",
              "      const buttonEl =\n",
              "        document.querySelector('#df-a816971c-dddf-4162-880e-c4af4ca073e9 button.colab-df-convert');\n",
              "      buttonEl.style.display =\n",
              "        google.colab.kernel.accessAllowed ? 'block' : 'none';\n",
              "\n",
              "      async function convertToInteractive(key) {\n",
              "        const element = document.querySelector('#df-a816971c-dddf-4162-880e-c4af4ca073e9');\n",
              "        const dataTable =\n",
              "          await google.colab.kernel.invokeFunction('convertToInteractive',\n",
              "                                                    [key], {});\n",
              "        if (!dataTable) return;\n",
              "\n",
              "        const docLinkHtml = 'Like what you see? Visit the ' +\n",
              "          '<a target=\"_blank\" href=https://colab.research.google.com/notebooks/data_table.ipynb>data table notebook</a>'\n",
              "          + ' to learn more about interactive tables.';\n",
              "        element.innerHTML = '';\n",
              "        dataTable['output_type'] = 'display_data';\n",
              "        await google.colab.output.renderOutput(dataTable, element);\n",
              "        const docLink = document.createElement('div');\n",
              "        docLink.innerHTML = docLinkHtml;\n",
              "        element.appendChild(docLink);\n",
              "      }\n",
              "    </script>\n",
              "  </div>\n",
              "\n",
              "\n",
              "<div id=\"df-1e8a5011-3c52-4a65-8bf0-db0aa4621fe8\">\n",
              "  <button class=\"colab-df-quickchart\" onclick=\"quickchart('df-1e8a5011-3c52-4a65-8bf0-db0aa4621fe8')\"\n",
              "            title=\"Suggest charts.\"\n",
              "            style=\"display:none;\">\n",
              "\n",
              "<svg xmlns=\"http://www.w3.org/2000/svg\" height=\"24px\"viewBox=\"0 0 24 24\"\n",
              "     width=\"24px\">\n",
              "    <g>\n",
              "        <path d=\"M19 3H5c-1.1 0-2 .9-2 2v14c0 1.1.9 2 2 2h14c1.1 0 2-.9 2-2V5c0-1.1-.9-2-2-2zM9 17H7v-7h2v7zm4 0h-2V7h2v10zm4 0h-2v-4h2v4z\"/>\n",
              "    </g>\n",
              "</svg>\n",
              "  </button>\n",
              "\n",
              "<style>\n",
              "  .colab-df-quickchart {\n",
              "      --bg-color: #E8F0FE;\n",
              "      --fill-color: #1967D2;\n",
              "      --hover-bg-color: #E2EBFA;\n",
              "      --hover-fill-color: #174EA6;\n",
              "      --disabled-fill-color: #AAA;\n",
              "      --disabled-bg-color: #DDD;\n",
              "  }\n",
              "\n",
              "  [theme=dark] .colab-df-quickchart {\n",
              "      --bg-color: #3B4455;\n",
              "      --fill-color: #D2E3FC;\n",
              "      --hover-bg-color: #434B5C;\n",
              "      --hover-fill-color: #FFFFFF;\n",
              "      --disabled-bg-color: #3B4455;\n",
              "      --disabled-fill-color: #666;\n",
              "  }\n",
              "\n",
              "  .colab-df-quickchart {\n",
              "    background-color: var(--bg-color);\n",
              "    border: none;\n",
              "    border-radius: 50%;\n",
              "    cursor: pointer;\n",
              "    display: none;\n",
              "    fill: var(--fill-color);\n",
              "    height: 32px;\n",
              "    padding: 0;\n",
              "    width: 32px;\n",
              "  }\n",
              "\n",
              "  .colab-df-quickchart:hover {\n",
              "    background-color: var(--hover-bg-color);\n",
              "    box-shadow: 0 1px 2px rgba(60, 64, 67, 0.3), 0 1px 3px 1px rgba(60, 64, 67, 0.15);\n",
              "    fill: var(--button-hover-fill-color);\n",
              "  }\n",
              "\n",
              "  .colab-df-quickchart-complete:disabled,\n",
              "  .colab-df-quickchart-complete:disabled:hover {\n",
              "    background-color: var(--disabled-bg-color);\n",
              "    fill: var(--disabled-fill-color);\n",
              "    box-shadow: none;\n",
              "  }\n",
              "\n",
              "  .colab-df-spinner {\n",
              "    border: 2px solid var(--fill-color);\n",
              "    border-color: transparent;\n",
              "    border-bottom-color: var(--fill-color);\n",
              "    animation:\n",
              "      spin 1s steps(1) infinite;\n",
              "  }\n",
              "\n",
              "  @keyframes spin {\n",
              "    0% {\n",
              "      border-color: transparent;\n",
              "      border-bottom-color: var(--fill-color);\n",
              "      border-left-color: var(--fill-color);\n",
              "    }\n",
              "    20% {\n",
              "      border-color: transparent;\n",
              "      border-left-color: var(--fill-color);\n",
              "      border-top-color: var(--fill-color);\n",
              "    }\n",
              "    30% {\n",
              "      border-color: transparent;\n",
              "      border-left-color: var(--fill-color);\n",
              "      border-top-color: var(--fill-color);\n",
              "      border-right-color: var(--fill-color);\n",
              "    }\n",
              "    40% {\n",
              "      border-color: transparent;\n",
              "      border-right-color: var(--fill-color);\n",
              "      border-top-color: var(--fill-color);\n",
              "    }\n",
              "    60% {\n",
              "      border-color: transparent;\n",
              "      border-right-color: var(--fill-color);\n",
              "    }\n",
              "    80% {\n",
              "      border-color: transparent;\n",
              "      border-right-color: var(--fill-color);\n",
              "      border-bottom-color: var(--fill-color);\n",
              "    }\n",
              "    90% {\n",
              "      border-color: transparent;\n",
              "      border-bottom-color: var(--fill-color);\n",
              "    }\n",
              "  }\n",
              "</style>\n",
              "\n",
              "  <script>\n",
              "    async function quickchart(key) {\n",
              "      const quickchartButtonEl =\n",
              "        document.querySelector('#' + key + ' button');\n",
              "      quickchartButtonEl.disabled = true;  // To prevent multiple clicks.\n",
              "      quickchartButtonEl.classList.add('colab-df-spinner');\n",
              "      try {\n",
              "        const charts = await google.colab.kernel.invokeFunction(\n",
              "            'suggestCharts', [key], {});\n",
              "      } catch (error) {\n",
              "        console.error('Error during call to suggestCharts:', error);\n",
              "      }\n",
              "      quickchartButtonEl.classList.remove('colab-df-spinner');\n",
              "      quickchartButtonEl.classList.add('colab-df-quickchart-complete');\n",
              "    }\n",
              "    (() => {\n",
              "      let quickchartButtonEl =\n",
              "        document.querySelector('#df-1e8a5011-3c52-4a65-8bf0-db0aa4621fe8 button');\n",
              "      quickchartButtonEl.style.display =\n",
              "        google.colab.kernel.accessAllowed ? 'block' : 'none';\n",
              "    })();\n",
              "  </script>\n",
              "</div>\n",
              "    </div>\n",
              "  </div>\n"
            ]
          },
          "metadata": {},
          "execution_count": 17
        }
      ]
    },
    {
      "cell_type": "markdown",
      "source": [
        "Formulasi Hipotesis: \"Dengan meningkatnya faktor stress (Expl_Distress_avg) maka stress score (Scale_PSS10_avg) juga meningkat.\""
      ],
      "metadata": {
        "id": "nX6sOBcaZtBA"
      }
    },
    {
      "cell_type": "markdown",
      "source": [
        "Conduct Analisis Regresi Univariat dengan faktor stress sebagai x dan stress score sebagai y.\n",
        "\n",
        "Pembagian data Train:Test = 9:1\n",
        "\n",
        "Persamaan: y=b0+b1x"
      ],
      "metadata": {
        "id": "8l1BMplaaYmK"
      }
    },
    {
      "cell_type": "code",
      "source": [
        "from sklearn.model_selection import train_test_split\n",
        "from sklearn.linear_model import LinearRegression\n",
        "from sklearn import metrics\n",
        "\n",
        "y = df_G7[['Scale_PSS10_avg']]\n",
        "x = df_G7[['Expl_Distress_avg']]\n",
        "\n",
        "# Split the data into training set and test set\n",
        "x_train, x_test, y_train, y_test = train_test_split(x, y, test_size=0.1, random_state=0)\n",
        "\n",
        "# Create a Linear Regression object\n",
        "regressor = LinearRegression()\n",
        "\n",
        "# Train the model using the training sets\n",
        "regressor.fit(x_train, y_train)\n",
        "\n",
        "# Make predictions using the testing set\n",
        "y_pred = regressor.predict(x_test)\n",
        "\n",
        "print('Intercept: \\n', regressor.intercept_)\n",
        "# The coefficients\n",
        "print('Coefficients: \\n', regressor.coef_)\n",
        "# The mean squared error\n",
        "print('Mean squared error: %.2f' % metrics.mean_squared_error(y_test, y_pred))\n",
        "# The coefficient of determination: 1 is perfect prediction\n",
        "print('Coefficient of determination: %.2f' % metrics.r2_score(y_test, y_pred))"
      ],
      "metadata": {
        "id": "s31d5myma3Zf",
        "colab": {
          "base_uri": "https://localhost:8080/"
        },
        "outputId": "08e38322-89ca-434c-8152-821193d4b4e7"
      },
      "execution_count": null,
      "outputs": [
        {
          "output_type": "stream",
          "name": "stdout",
          "text": [
            "Intercept: \n",
            " [1.30732246]\n",
            "Coefficients: \n",
            " [[0.43748999]]\n",
            "Mean squared error: 0.36\n",
            "Coefficient of determination: 0.20\n"
          ]
        }
      ]
    },
    {
      "cell_type": "markdown",
      "source": [
        "Penjelasan Hasil Regresi:\n",
        "Persamaan Regresi Linier:\n",
        "y=Intercept+Coefficients(x)\n",
        "\n",
        "y=1.30732246+0.43748999(x)\n",
        "\n",
        "Coefficents:\n",
        "Menjelaskan seberapa besar perubahan stress score seiring dengan perubahan faktor stress, nilai 0.43748999 menunjukan bahwa setiap kenaikan faktor stress sebanyak 1, maka stress score akan ikut naik sebesar 0.43748999. ini menjawab hipotesis  \"Dengan meningkatnya faktor stress (Expl_Distress_avg) maka stress score (Scale_PSS10_avg) juga meningkat.\" (Hipotesis Diterima)\n",
        "\n",
        "Mean Square Error:\n",
        "Menjelaskan secara rata2 seberapa jauh setiap prediksi yang dihasilkan model dari nilai stress score yang sebenarnya. Dengan skala PSS10_avg dari 1 sampai 5. Nilai 0.36 menyatakan secara rata2 prediksi meleset sebesar 0.36 poin dari nilai asli. Maka performa model bisa dibilang cukup baik. (tapi tidak maksimal karena alasan yang akan dijelaskan kemudian)\n",
        "\n",
        "Coefficient of Determination (R2 Score):\n",
        "Menjelaskan seberapa banyak varian dalam stress score bisa dijelaskan dengan baik oleh faktor stress, nilai 0.2 menyatakan faktor stress hanya bisa menjelaskan 20% varian dalam stress score. Yang berarti masih ada variabel lain yang secara signifikan bisa menjelaskan varian dalam stress score."
      ],
      "metadata": {
        "id": "CaURr4Cl1xho"
      }
    },
    {
      "cell_type": "markdown",
      "source": [
        "Pengujian Hipotesis dengan menggunakan Kruskal wallis, untuk mengecek apakah ada perbedaan yang signifikan di Scale_PSS10_avg, Expl_Distress_avg, Scale_SLON_avg, antara 3 blok negara.\n",
        "Hipotesis H0 : Tidak ada perbedaan yang signifikan dalam di antara ketiga blok negara.\n",
        "Hipotesis H1 :  Terdapat  perbedaan yang signifikan dalam di antara ketiga blok negara.\n",
        "level of significance = 0.05"
      ],
      "metadata": {
        "id": "caBnEAWwKmsb"
      }
    },
    {
      "cell_type": "code",
      "source": [
        "import numpy as np\n",
        "from scipy.stats import kruskal\n",
        "\n",
        "# df2 = df1.dropna(subset=df1.columns[22:31], how='all')\n",
        "# print(df2.shape)\n",
        "\n",
        "data_NA = {\n",
        "    \"PSS10_UCLA_avg\": df_clean_NA['Scale_PSS10_avg'].dropna(),\n",
        "    \"SLON_avg\": df_clean_NA['Scale_SLON_avg'].dropna(),\n",
        "    \"Distress_avg\": df_clean_NA['Expl_Distress_avg'].dropna()}\n",
        "data_JP = {\n",
        "    \"PSS10_UCLA_avg\":df_clean_JP['Scale_PSS10_avg'].dropna(),\n",
        "    \"SLON_avg\": df_clean_JP['Scale_SLON_avg'].dropna(),\n",
        "    \"Distress_avg\": df_clean_JP['Expl_Distress_avg'].dropna()}\n",
        "data_EU = {\n",
        "    \"PSS10_UCLA_avg\": df_clean_EU['Scale_PSS10_avg'].dropna(),\n",
        "    \"SLON_avg\":df_clean_EU['Scale_SLON_avg'].dropna(),\n",
        "    \"Distress_avg\": df_clean_EU['Expl_Distress_avg'].dropna()}\n",
        "\n",
        "for questionnaire in  data_NA.keys():\n",
        "    print(f\"Kruskal-Wallis Test for {questionnaire}:\")\n",
        "    groups = [data_NA[questionnaire], data_JP[questionnaire], data_EU[questionnaire]]\n",
        "    statistic, p_value = kruskal(*groups)\n",
        "    print(\"Statistic:\", statistic)\n",
        "    print(\"P-Value:\", p_value)\n",
        "    if p_value < 0.05:\n",
        "        print(f\"There are significant differences in {questionnaire} among the three countries blocks.\\n\")\n",
        "    else:\n",
        "        print(f\"There are no significant differences in {questionnaire} among the three countries blocks.\\n\")\n"
      ],
      "metadata": {
        "id": "gppKyeOVTxze",
        "colab": {
          "base_uri": "https://localhost:8080/"
        },
        "outputId": "7875a0cd-58a3-415e-dfc1-5ff747f4bc0c"
      },
      "execution_count": null,
      "outputs": [
        {
          "output_type": "stream",
          "name": "stdout",
          "text": [
            "Kruskal-Wallis Test for PSS10_UCLA_avg:\n",
            "Statistic: 1006.1840255189538\n",
            "P-Value: 3.235303063386157e-219\n",
            "There are significant differences in PSS10_UCLA_avg among the three countries blocks.\n",
            "\n",
            "Kruskal-Wallis Test for SLON_avg:\n",
            "Statistic: 158.18567008034296\n",
            "P-Value: 4.4711391279181846e-35\n",
            "There are significant differences in SLON_avg among the three countries blocks.\n",
            "\n",
            "Kruskal-Wallis Test for Distress_avg:\n",
            "Statistic: 407.25876583468704\n",
            "P-Value: 3.6718306746485824e-89\n",
            "There are significant differences in Distress_avg among the three countries blocks.\n",
            "\n"
          ]
        }
      ]
    },
    {
      "cell_type": "code",
      "source": [
        "import numpy as np\n",
        "from scipy.stats import kruskal\n",
        "\n",
        "# df2 = df1.dropna(subset=df1.columns[22:31], how='all')\n",
        "# print(df2.shape)\n",
        "\n",
        "data_NA = {\n",
        "    \"PSS10_UCLA_avg\": df_clean_NA['Scale_PSS10_avg'].dropna(),\n",
        "    \"SLON_avg\": df_clean_NA['Scale_SLON_avg'].dropna(),\n",
        "    \"Distress_avg\": df_clean_NA['Expl_Distress_avg'].dropna()}\n",
        "\n",
        "data_EU = {\n",
        "    \"PSS10_UCLA_avg\": df_clean_EU['Scale_PSS10_avg'].dropna(),\n",
        "    \"SLON_avg\":df_clean_EU['Scale_SLON_avg'].dropna(),\n",
        "    \"Distress_avg\": df_clean_EU['Expl_Distress_avg'].dropna()}\n",
        "\n",
        "for questionnaire in  data_NA.keys():\n",
        "    print(f\"Kruskal-Wallis Test for {questionnaire}:\")\n",
        "    #groups = [data_NA[questionnaire], data_JP[questionnaire], data_EU[questionnaire]]\n",
        "    groups = [data_NA[questionnaire],data_EU[questionnaire]]\n",
        "    statistic, p_value = kruskal(*groups)\n",
        "    print(\"Statistic:\", statistic)\n",
        "    print(\"P-Value:\", p_value)\n",
        "    if p_value < 0.05:\n",
        "        print(f\"There are significant differences in {questionnaire} among the two countries blocks.\\n\")\n",
        "    else:\n",
        "        print(f\"There are no significant differences in {questionnaire} among the two countries blocks.\\n\")"
      ],
      "metadata": {
        "id": "jaWQnIHTZqHo",
        "colab": {
          "base_uri": "https://localhost:8080/"
        },
        "outputId": "463e22d9-e9f0-4bf4-ea4c-3564de65bfc7"
      },
      "execution_count": null,
      "outputs": [
        {
          "output_type": "stream",
          "name": "stdout",
          "text": [
            "Kruskal-Wallis Test for PSS10_UCLA_avg:\n",
            "Statistic: 55.61006589796265\n",
            "P-Value: 8.836997529953198e-14\n",
            "There are significant differences in PSS10_UCLA_avg among the three countries blocks.\n",
            "\n",
            "Kruskal-Wallis Test for SLON_avg:\n",
            "Statistic: 0.2232488117663379\n",
            "P-Value: 0.6365755587182036\n",
            "There are no significant differences in SLON_avg among the three countries blocks.\n",
            "\n",
            "Kruskal-Wallis Test for Distress_avg:\n",
            "Statistic: 48.15970263729015\n",
            "P-Value: 3.928800605979648e-12\n",
            "There are significant differences in Distress_avg among the three countries blocks.\n",
            "\n"
          ]
        }
      ]
    },
    {
      "cell_type": "code",
      "source": [
        "import numpy as np\n",
        "from scipy.stats import kruskal\n",
        "\n",
        "# df2 = df1.dropna(subset=df1.columns[22:31], how='all')\n",
        "# print(df2.shape)\n",
        "\n",
        "data_EU = {\n",
        "    \"PSS10_UCLA_avg\": df_clean_NA['Scale_PSS10_avg'].dropna(),\n",
        "    \"SLON_avg\": df_clean_NA['Scale_SLON_avg'].dropna(),\n",
        "    \"Distress_avg\": df_clean_NA['Expl_Distress_avg'].dropna()}\n",
        "data_JP = {\n",
        "    \"PSS10_UCLA_avg\":df_clean_JP['Scale_PSS10_avg'].dropna(),\n",
        "    \"SLON_avg\": df_clean_JP['Scale_SLON_avg'].dropna(),\n",
        "    \"Distress_avg\": df_clean_JP['Expl_Distress_avg'].dropna()}\n",
        "\n",
        "\n",
        "for questionnaire in  data_NA.keys():\n",
        "    print(f\"Kruskal-Wallis Test for {questionnaire}:\")\n",
        "    groups = [data_EU[questionnaire], data_JP[questionnaire]]\n",
        "    statistic, p_value = kruskal(*groups)\n",
        "    print(\"Statistic:\", statistic)\n",
        "    print(\"P-Value:\", p_value)\n",
        "    if p_value < 0.05:\n",
        "        print(f\"There are significant differences in {questionnaire} among the three countries blocks.\\n\")\n",
        "    else:\n",
        "        print(f\"There are no significant differences in {questionnaire} among the three countries blocks.\\n\")"
      ],
      "metadata": {
        "id": "HS-B7z2Y_ING",
        "colab": {
          "base_uri": "https://localhost:8080/"
        },
        "outputId": "ac78fe90-c6a9-43b4-b60e-9f285cba431b"
      },
      "execution_count": null,
      "outputs": [
        {
          "output_type": "stream",
          "name": "stdout",
          "text": [
            "Kruskal-Wallis Test for PSS10_UCLA_avg:\n",
            "Statistic: 300.13797789016854\n",
            "P-Value: 3.0740480956550455e-67\n",
            "There are significant differences in PSS10_UCLA_avg among the three countries blocks.\n",
            "\n",
            "Kruskal-Wallis Test for SLON_avg:\n",
            "Statistic: 94.28192957681146\n",
            "P-Value: 2.7363699132214145e-22\n",
            "There are significant differences in SLON_avg among the three countries blocks.\n",
            "\n",
            "Kruskal-Wallis Test for Distress_avg:\n",
            "Statistic: 86.72169843857873\n",
            "P-Value: 1.2491870846253778e-20\n",
            "There are significant differences in Distress_avg among the three countries blocks.\n",
            "\n"
          ]
        }
      ]
    },
    {
      "cell_type": "code",
      "source": [
        "x = df_G7['Expl_Distress_avg']\n",
        "y = df_G7['Scale_PSS10_avg']\n",
        "\n",
        "# Create scatter plot\n",
        "plt.scatter(x, y)\n",
        "\n",
        "# Calculate the trendline\n",
        "z = np.polyfit(x, y, 1)\n",
        "p = np.poly1d(z)\n",
        "\n",
        "# Plot the trendline\n",
        "plt.plot(x, p(x), color='black')\n",
        "\n",
        "# Label the plot\n",
        "plt.xlabel('Average Stress Factor')\n",
        "plt.ylabel('Average Stress Score')\n",
        "plt.title('Stress Factor and Score Data Spread')\n",
        "\n",
        "# Display the plot\n",
        "plt.show()\n"
      ],
      "metadata": {
        "id": "Ws5Mr9mLKlm2",
        "colab": {
          "base_uri": "https://localhost:8080/",
          "height": 472
        },
        "outputId": "e65c076e-3d25-4cd2-993e-0363101e7485"
      },
      "execution_count": null,
      "outputs": [
        {
          "output_type": "display_data",
          "data": {
            "text/plain": [
              "<Figure size 640x480 with 1 Axes>"
            ],
            "image/png": "[encoded data removed]"
          },
          "metadata": {}
        }
      ]
    }
  ]
}